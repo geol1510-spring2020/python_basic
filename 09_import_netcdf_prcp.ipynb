{
 "cells": [
  {
   "cell_type": "markdown",
   "metadata": {},
   "source": [
    "# Making a contour map of global temperature\n",
    "\n",
    "### Reading NetCDF files\n",
    "NetCDF (Network Common Data Form) is a set of software libraries. It supports the creation, access, and sharing of array-oriented scientific data. \n",
    "For more information on NetCDF can be found here: <br>\n",
    "  >  https://unidata.github.io/netcdf4-python/netCDF4/index.html"
   ]
  },
  {
   "cell_type": "markdown",
   "metadata": {},
   "source": [
    "First let's import necessary modules: <br>\n",
    "Cartopy is a Python package designed for geospatial data processing in order to produce maps and other geospatial data analyses. For more information on cartopy can be found here: <br>\n",
    "  >  https://scitools.org.uk/cartopy/docs/latest/"
   ]
  },
  {
   "cell_type": "code",
   "execution_count": 1,
   "metadata": {},
   "outputs": [],
   "source": [
    "from netCDF4 import Dataset\n",
    "import cartopy.crs as ccrs\n",
    "import matplotlib.pyplot as plt\n",
    "import numpy as np"
   ]
  },
  {
   "cell_type": "markdown",
   "metadata": {},
   "source": [
    "Open and read a netCDF file."
   ]
  },
  {
   "cell_type": "code",
   "execution_count": 4,
   "metadata": {},
   "outputs": [],
   "source": [
    "# Open a netCDF file\n",
    "path='/Users/jungeunl/Cycad/class/data/'\n",
    "filename='trmm_mon_1998_2015.nc'\n",
    "f1=Dataset(path+filename,'a')"
   ]
  },
  {
   "cell_type": "markdown",
   "metadata": {},
   "source": [
    "Let's check what is f1."
   ]
  },
  {
   "cell_type": "raw",
   "metadata": {},
   "source": [
    "print(f1)"
   ]
  },
  {
   "cell_type": "markdown",
   "metadata": {},
   "source": [
    "Print variables in the file."
   ]
  },
  {
   "cell_type": "code",
   "execution_count": 6,
   "metadata": {},
   "outputs": [
    {
     "name": "stdout",
     "output_type": "stream",
     "text": [
      "odict_keys(['time', 'longitude', 'latitude', 'pcp', 'err', 'weight'])\n"
     ]
    }
   ],
   "source": [
    "print (f1.variables.keys())"
   ]
  },
  {
   "cell_type": "markdown",
   "metadata": {},
   "source": [
    "Let's check some of the variables. "
   ]
  },
  {
   "cell_type": "code",
   "execution_count": 10,
   "metadata": {},
   "outputs": [
    {
     "name": "stdout",
     "output_type": "stream",
     "text": [
      "<class 'netCDF4._netCDF4.Variable'>\n",
      "float64 latitude(latitude)\n",
      "    units: degrees_north\n",
      "    long_name: Latitude\n",
      "unlimited dimensions: \n",
      "current shape = (400,)\n",
      "filling on, default _FillValue of 9.969209968386869e+36 used\n",
      "\n"
     ]
    }
   ],
   "source": [
    "print(f1.variables['latitude'])"
   ]
  },
  {
   "cell_type": "markdown",
   "metadata": {},
   "source": [
    "To see the values for the latitude variable:"
   ]
  },
  {
   "cell_type": "raw",
   "metadata": {},
   "source": [
    "print(f1.variables['latitude'][:])"
   ]
  },
  {
   "cell_type": "markdown",
   "metadata": {},
   "source": [
    "We can assign the values as a 'lat' variable."
   ]
  },
  {
   "cell_type": "code",
   "execution_count": 12,
   "metadata": {},
   "outputs": [],
   "source": [
    "lat=f1.variables['latitude'][:]"
   ]
  },
  {
   "cell_type": "markdown",
   "metadata": {},
   "source": [
    "#### Exercise\n",
    "Check the variable longitude and assign it as a \"lon\" variable."
   ]
  },
  {
   "cell_type": "code",
   "execution_count": 21,
   "metadata": {},
   "outputs": [],
   "source": [
    "lon=f1.variables['longitude'][:]"
   ]
  },
  {
   "cell_type": "markdown",
   "metadata": {},
   "source": [
    "\"pcp\" is a variable for precipitation. "
   ]
  },
  {
   "cell_type": "code",
   "execution_count": 16,
   "metadata": {},
   "outputs": [
    {
     "name": "stdout",
     "output_type": "stream",
     "text": [
      "<class 'netCDF4._netCDF4.Variable'>\n",
      "float32 pcp(time, latitude, longitude)\n",
      "    comments: Unknown1 variable comment\n",
      "    long_name: precipitation:\n",
      "    units: mm/hr\n",
      "    grid_name: grid-1\n",
      "    grid_type: linear\n",
      "    level_description: Earth surface\n",
      "    time_statistic: instantaneous\n",
      "    _FillValue: -9999.9\n",
      "unlimited dimensions: time\n",
      "current shape = (12, 400, 1440)\n",
      "filling on\n"
     ]
    }
   ],
   "source": [
    "print(f1.variables['pcp'])"
   ]
  },
  {
   "cell_type": "markdown",
   "metadata": {},
   "source": [
    "You can see that the unit is mm/hour. I'm going to change the unit to mm/day."
   ]
  },
  {
   "cell_type": "code",
   "execution_count": 17,
   "metadata": {},
   "outputs": [],
   "source": [
    "prcp=f1.variables['pcp'][:]*24."
   ]
  },
  {
   "cell_type": "markdown",
   "metadata": {},
   "source": [
    "Let's check the dimension of prcp."
   ]
  },
  {
   "cell_type": "code",
   "execution_count": 18,
   "metadata": {},
   "outputs": [
    {
     "name": "stdout",
     "output_type": "stream",
     "text": [
      "(12, 400, 1440)\n"
     ]
    }
   ],
   "source": [
    "print(prcp.shape)"
   ]
  },
  {
   "cell_type": "markdown",
   "metadata": {},
   "source": [
    "The dimensions are time, latitude and longitude."
   ]
  },
  {
   "cell_type": "markdown",
   "metadata": {},
   "source": [
    "Let's make a contour plot. We need a 2-D variable. So, let's make a plot for January precipitation."
   ]
  },
  {
   "cell_type": "code",
   "execution_count": 19,
   "metadata": {},
   "outputs": [
    {
     "data": {
      "text/plain": [
       "<matplotlib.contour.QuadContourSet at 0x118c044e0>"
      ]
     },
     "execution_count": 19,
     "metadata": {},
     "output_type": "execute_result"
    },
    {
     "data": {
      "image/png": "[encoded data removed]",
      "text/plain": [
       "<Figure size 432x288 with 1 Axes>"
      ]
     },
     "metadata": {
      "needs_background": "light"
     },
     "output_type": "display_data"
    }
   ],
   "source": [
    "plt.contourf(prcp[0,:,:])"
   ]
  },
  {
   "cell_type": "code",
   "execution_count": 23,
   "metadata": {},
   "outputs": [
    {
     "data": {
      "text/plain": [
       "<matplotlib.colorbar.Colorbar at 0xb1f9ae550>"
      ]
     },
     "execution_count": 23,
     "metadata": {},
     "output_type": "execute_result"
    },
    {
     "data": {
      "image/png": "[encoded data removed]",
      "text/plain": [
       "<Figure size 432x288 with 2 Axes>"
      ]
     },
     "metadata": {
      "needs_background": "light"
     },
     "output_type": "display_data"
    }
   ],
   "source": [
    "# color map\n",
    "cmap1=plt.cm.RdYlBu\n",
    "\n",
    "# map projection\n",
    "proj = ccrs.PlateCarree()\n",
    "\n",
    "# set contour levels\n",
    "levels = np.arange(0,20,1)\n",
    "\n",
    "# Make a plot\n",
    "ax = plt.axes(projection=proj)\n",
    "cs=ax.contourf(lon, lat, prcp[0,:,:],levels,\n",
    "                transform=proj,\n",
    "                cmap=cmap1)\n",
    "ax.coastlines()\n",
    "ax.set_extent([-180, 180, -40, 40]) # longitude latitude extent\n",
    "plt.title('January average precipitation (mm/day)') #title\n",
    "plt.colorbar(cs, orientation='horizontal') # color map"
   ]
  },
  {
   "cell_type": "code",
   "execution_count": null,
   "metadata": {},
   "outputs": [],
   "source": []
  }
 ],
 "metadata": {
  "kernelspec": {
   "display_name": "Python 3",
   "language": "python",
   "name": "python3"
  },
  "language_info": {
   "codemirror_mode": {
    "name": "ipython",
    "version": 3
   },
   "file_extension": ".py",
   "mimetype": "text/x-python",
   "name": "python",
   "nbconvert_exporter": "python",
   "pygments_lexer": "ipython3",
   "version": "3.7.2"
  }
 },
 "nbformat": 4,
 "nbformat_minor": 2
}
